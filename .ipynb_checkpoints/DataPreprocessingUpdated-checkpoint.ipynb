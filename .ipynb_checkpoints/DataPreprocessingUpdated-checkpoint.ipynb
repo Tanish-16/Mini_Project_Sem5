{
 "cells": [
  {
   "cell_type": "code",
   "execution_count": 44,
   "id": "bad3696d",
   "metadata": {},
   "outputs": [],
   "source": [
    "import numpy as np\n",
    "import pandas as pd\n",
    "import matplotlib.pyplot as plt"
   ]
  },
  {
   "cell_type": "code",
   "execution_count": 45,
   "id": "30f4aa25",
   "metadata": {},
   "outputs": [],
   "source": [
    "df=pd.read_csv(\"combined_dataset.csv\")"
   ]
  },
  {
   "cell_type": "code",
   "execution_count": 46,
   "id": "13488f57",
   "metadata": {},
   "outputs": [
    {
     "data": {
      "text/html": [
       "<div>\n",
       "<style scoped>\n",
       "    .dataframe tbody tr th:only-of-type {\n",
       "        vertical-align: middle;\n",
       "    }\n",
       "\n",
       "    .dataframe tbody tr th {\n",
       "        vertical-align: top;\n",
       "    }\n",
       "\n",
       "    .dataframe thead th {\n",
       "        text-align: right;\n",
       "    }\n",
       "</style>\n",
       "<table border=\"1\" class=\"dataframe\">\n",
       "  <thead>\n",
       "    <tr style=\"text-align: right;\">\n",
       "      <th></th>\n",
       "      <th>Unnamed: 0</th>\n",
       "      <th>text</th>\n",
       "      <th>label</th>\n",
       "      <th>label_hate_speech</th>\n",
       "      <th>tweet</th>\n",
       "      <th>Updated_label</th>\n",
       "    </tr>\n",
       "  </thead>\n",
       "  <tbody>\n",
       "    <tr>\n",
       "      <th>0</th>\n",
       "      <td>24196</td>\n",
       "      <td>Donald Trump’s Jet, a Regular on the Campaign ...</td>\n",
       "      <td>0</td>\n",
       "      <td>1</td>\n",
       "      <td>Bitches always think somebody want them or the...</td>\n",
       "      <td>3</td>\n",
       "    </tr>\n",
       "    <tr>\n",
       "      <th>1</th>\n",
       "      <td>53179</td>\n",
       "      <td>Coca-Cola and Pepsi Fund 96 U.S. Health Groups...</td>\n",
       "      <td>1</td>\n",
       "      <td>1</td>\n",
       "      <td>@xcorey21 uh you're trash. &amp;#128536;</td>\n",
       "      <td>1</td>\n",
       "    </tr>\n",
       "    <tr>\n",
       "      <th>2</th>\n",
       "      <td>2098</td>\n",
       "      <td>Alex Rodriguez’s Orchestrated Move May Not Be ...</td>\n",
       "      <td>0</td>\n",
       "      <td>2</td>\n",
       "      <td>RT @AP: Lifelong Yankee fan puts aside rooting...</td>\n",
       "      <td>3</td>\n",
       "    </tr>\n",
       "    <tr>\n",
       "      <th>3</th>\n",
       "      <td>21253</td>\n",
       "      <td>Who Is Sebastian Gorka? A Trump Adviser Comes ...</td>\n",
       "      <td>0</td>\n",
       "      <td>2</td>\n",
       "      <td>RT @Alleycelestine: &amp;#8220;@ViriDoesItt: Kissi...</td>\n",
       "      <td>3</td>\n",
       "    </tr>\n",
       "    <tr>\n",
       "      <th>4</th>\n",
       "      <td>19280</td>\n",
       "      <td>Paul Ryan Calls Donald Trump’s Attack on Judge...</td>\n",
       "      <td>0</td>\n",
       "      <td>1</td>\n",
       "      <td>@xloyalTOme - bitch I'm up for sale every week...</td>\n",
       "      <td>3</td>\n",
       "    </tr>\n",
       "    <tr>\n",
       "      <th>...</th>\n",
       "      <td>...</td>\n",
       "      <td>...</td>\n",
       "      <td>...</td>\n",
       "      <td>...</td>\n",
       "      <td>...</td>\n",
       "      <td>...</td>\n",
       "    </tr>\n",
       "    <tr>\n",
       "      <th>59995</th>\n",
       "      <td>3141</td>\n",
       "      <td>CPAC Straw Poll Finds Overwhelming Support for...</td>\n",
       "      <td>0</td>\n",
       "      <td>1</td>\n",
       "      <td>A lot of dumb bitches out here....</td>\n",
       "      <td>3</td>\n",
       "    </tr>\n",
       "    <tr>\n",
       "      <th>59996</th>\n",
       "      <td>19322</td>\n",
       "      <td>Paul Ryan Calls Donald Trump’s Attack on Judge...</td>\n",
       "      <td>0</td>\n",
       "      <td>1</td>\n",
       "      <td>A hoe gon be a hoe, that ain't a hunnid.</td>\n",
       "      <td>3</td>\n",
       "    </tr>\n",
       "    <tr>\n",
       "      <th>59997</th>\n",
       "      <td>37746</td>\n",
       "      <td>NaN</td>\n",
       "      <td>1</td>\n",
       "      <td>1</td>\n",
       "      <td>Bitch, you may have a million dollar body, but...</td>\n",
       "      <td>1</td>\n",
       "    </tr>\n",
       "    <tr>\n",
       "      <th>59998</th>\n",
       "      <td>35670</td>\n",
       "      <td>Obama’s Brother: I’m Voting TrumpPosted on Oct...</td>\n",
       "      <td>1</td>\n",
       "      <td>2</td>\n",
       "      <td>RT @AnnTelnaes: Halloween candy corn bird http...</td>\n",
       "      <td>1</td>\n",
       "    </tr>\n",
       "    <tr>\n",
       "      <th>59999</th>\n",
       "      <td>56106</td>\n",
       "      <td>Soros Spends Millions to Unseat Sheriff Joe Ar...</td>\n",
       "      <td>1</td>\n",
       "      <td>0</td>\n",
       "      <td>I be waking up on some new shit like fuck that...</td>\n",
       "      <td>0</td>\n",
       "    </tr>\n",
       "  </tbody>\n",
       "</table>\n",
       "<p>60000 rows × 6 columns</p>\n",
       "</div>"
      ],
      "text/plain": [
       "       Unnamed: 0                                               text  label  \\\n",
       "0           24196  Donald Trump’s Jet, a Regular on the Campaign ...      0   \n",
       "1           53179  Coca-Cola and Pepsi Fund 96 U.S. Health Groups...      1   \n",
       "2            2098  Alex Rodriguez’s Orchestrated Move May Not Be ...      0   \n",
       "3           21253  Who Is Sebastian Gorka? A Trump Adviser Comes ...      0   \n",
       "4           19280  Paul Ryan Calls Donald Trump’s Attack on Judge...      0   \n",
       "...           ...                                                ...    ...   \n",
       "59995        3141  CPAC Straw Poll Finds Overwhelming Support for...      0   \n",
       "59996       19322  Paul Ryan Calls Donald Trump’s Attack on Judge...      0   \n",
       "59997       37746                                                NaN      1   \n",
       "59998       35670  Obama’s Brother: I’m Voting TrumpPosted on Oct...      1   \n",
       "59999       56106  Soros Spends Millions to Unseat Sheriff Joe Ar...      1   \n",
       "\n",
       "       label_hate_speech                                              tweet  \\\n",
       "0                      1  Bitches always think somebody want them or the...   \n",
       "1                      1               @xcorey21 uh you're trash. &#128536;   \n",
       "2                      2  RT @AP: Lifelong Yankee fan puts aside rooting...   \n",
       "3                      2  RT @Alleycelestine: &#8220;@ViriDoesItt: Kissi...   \n",
       "4                      1  @xloyalTOme - bitch I'm up for sale every week...   \n",
       "...                  ...                                                ...   \n",
       "59995                  1                 A lot of dumb bitches out here....   \n",
       "59996                  1           A hoe gon be a hoe, that ain't a hunnid.   \n",
       "59997                  1  Bitch, you may have a million dollar body, but...   \n",
       "59998                  2  RT @AnnTelnaes: Halloween candy corn bird http...   \n",
       "59999                  0  I be waking up on some new shit like fuck that...   \n",
       "\n",
       "       Updated_label  \n",
       "0                  3  \n",
       "1                  1  \n",
       "2                  3  \n",
       "3                  3  \n",
       "4                  3  \n",
       "...              ...  \n",
       "59995              3  \n",
       "59996              3  \n",
       "59997              1  \n",
       "59998              1  \n",
       "59999              0  \n",
       "\n",
       "[60000 rows x 6 columns]"
      ]
     },
     "execution_count": 46,
     "metadata": {},
     "output_type": "execute_result"
    }
   ],
   "source": [
    "df"
   ]
  },
  {
   "cell_type": "code",
   "execution_count": 47,
   "id": "bfcb5a3d",
   "metadata": {},
   "outputs": [],
   "source": [
    "df.drop('Unnamed: 0', inplace=True, axis=1)\n",
    "df.drop('label', inplace=True, axis=1)\n",
    "df.drop('label_hate_speech', inplace=True, axis=1)"
   ]
  },
  {
   "cell_type": "code",
   "execution_count": 48,
   "id": "a6e3644a",
   "metadata": {},
   "outputs": [
    {
     "data": {
      "text/html": [
       "<div>\n",
       "<style scoped>\n",
       "    .dataframe tbody tr th:only-of-type {\n",
       "        vertical-align: middle;\n",
       "    }\n",
       "\n",
       "    .dataframe tbody tr th {\n",
       "        vertical-align: top;\n",
       "    }\n",
       "\n",
       "    .dataframe thead th {\n",
       "        text-align: right;\n",
       "    }\n",
       "</style>\n",
       "<table border=\"1\" class=\"dataframe\">\n",
       "  <thead>\n",
       "    <tr style=\"text-align: right;\">\n",
       "      <th></th>\n",
       "      <th>text</th>\n",
       "      <th>tweet</th>\n",
       "      <th>Updated_label</th>\n",
       "    </tr>\n",
       "  </thead>\n",
       "  <tbody>\n",
       "    <tr>\n",
       "      <th>0</th>\n",
       "      <td>Donald Trump’s Jet, a Regular on the Campaign ...</td>\n",
       "      <td>Bitches always think somebody want them or the...</td>\n",
       "      <td>3</td>\n",
       "    </tr>\n",
       "    <tr>\n",
       "      <th>1</th>\n",
       "      <td>Coca-Cola and Pepsi Fund 96 U.S. Health Groups...</td>\n",
       "      <td>@xcorey21 uh you're trash. &amp;#128536;</td>\n",
       "      <td>1</td>\n",
       "    </tr>\n",
       "    <tr>\n",
       "      <th>2</th>\n",
       "      <td>Alex Rodriguez’s Orchestrated Move May Not Be ...</td>\n",
       "      <td>RT @AP: Lifelong Yankee fan puts aside rooting...</td>\n",
       "      <td>3</td>\n",
       "    </tr>\n",
       "    <tr>\n",
       "      <th>3</th>\n",
       "      <td>Who Is Sebastian Gorka? A Trump Adviser Comes ...</td>\n",
       "      <td>RT @Alleycelestine: &amp;#8220;@ViriDoesItt: Kissi...</td>\n",
       "      <td>3</td>\n",
       "    </tr>\n",
       "    <tr>\n",
       "      <th>4</th>\n",
       "      <td>Paul Ryan Calls Donald Trump’s Attack on Judge...</td>\n",
       "      <td>@xloyalTOme - bitch I'm up for sale every week...</td>\n",
       "      <td>3</td>\n",
       "    </tr>\n",
       "    <tr>\n",
       "      <th>...</th>\n",
       "      <td>...</td>\n",
       "      <td>...</td>\n",
       "      <td>...</td>\n",
       "    </tr>\n",
       "    <tr>\n",
       "      <th>59995</th>\n",
       "      <td>CPAC Straw Poll Finds Overwhelming Support for...</td>\n",
       "      <td>A lot of dumb bitches out here....</td>\n",
       "      <td>3</td>\n",
       "    </tr>\n",
       "    <tr>\n",
       "      <th>59996</th>\n",
       "      <td>Paul Ryan Calls Donald Trump’s Attack on Judge...</td>\n",
       "      <td>A hoe gon be a hoe, that ain't a hunnid.</td>\n",
       "      <td>3</td>\n",
       "    </tr>\n",
       "    <tr>\n",
       "      <th>59997</th>\n",
       "      <td>NaN</td>\n",
       "      <td>Bitch, you may have a million dollar body, but...</td>\n",
       "      <td>1</td>\n",
       "    </tr>\n",
       "    <tr>\n",
       "      <th>59998</th>\n",
       "      <td>Obama’s Brother: I’m Voting TrumpPosted on Oct...</td>\n",
       "      <td>RT @AnnTelnaes: Halloween candy corn bird http...</td>\n",
       "      <td>1</td>\n",
       "    </tr>\n",
       "    <tr>\n",
       "      <th>59999</th>\n",
       "      <td>Soros Spends Millions to Unseat Sheriff Joe Ar...</td>\n",
       "      <td>I be waking up on some new shit like fuck that...</td>\n",
       "      <td>0</td>\n",
       "    </tr>\n",
       "  </tbody>\n",
       "</table>\n",
       "<p>60000 rows × 3 columns</p>\n",
       "</div>"
      ],
      "text/plain": [
       "                                                    text  \\\n",
       "0      Donald Trump’s Jet, a Regular on the Campaign ...   \n",
       "1      Coca-Cola and Pepsi Fund 96 U.S. Health Groups...   \n",
       "2      Alex Rodriguez’s Orchestrated Move May Not Be ...   \n",
       "3      Who Is Sebastian Gorka? A Trump Adviser Comes ...   \n",
       "4      Paul Ryan Calls Donald Trump’s Attack on Judge...   \n",
       "...                                                  ...   \n",
       "59995  CPAC Straw Poll Finds Overwhelming Support for...   \n",
       "59996  Paul Ryan Calls Donald Trump’s Attack on Judge...   \n",
       "59997                                                NaN   \n",
       "59998  Obama’s Brother: I’m Voting TrumpPosted on Oct...   \n",
       "59999  Soros Spends Millions to Unseat Sheriff Joe Ar...   \n",
       "\n",
       "                                                   tweet  Updated_label  \n",
       "0      Bitches always think somebody want them or the...              3  \n",
       "1                   @xcorey21 uh you're trash. &#128536;              1  \n",
       "2      RT @AP: Lifelong Yankee fan puts aside rooting...              3  \n",
       "3      RT @Alleycelestine: &#8220;@ViriDoesItt: Kissi...              3  \n",
       "4      @xloyalTOme - bitch I'm up for sale every week...              3  \n",
       "...                                                  ...            ...  \n",
       "59995                 A lot of dumb bitches out here....              3  \n",
       "59996           A hoe gon be a hoe, that ain't a hunnid.              3  \n",
       "59997  Bitch, you may have a million dollar body, but...              1  \n",
       "59998  RT @AnnTelnaes: Halloween candy corn bird http...              1  \n",
       "59999  I be waking up on some new shit like fuck that...              0  \n",
       "\n",
       "[60000 rows x 3 columns]"
      ]
     },
     "execution_count": 48,
     "metadata": {},
     "output_type": "execute_result"
    }
   ],
   "source": [
    "df"
   ]
  },
  {
   "cell_type": "code",
   "execution_count": 49,
   "id": "730a63e3",
   "metadata": {},
   "outputs": [],
   "source": [
    "df.drop('tweet', inplace=True, axis=1)"
   ]
  },
  {
   "cell_type": "code",
   "execution_count": 50,
   "id": "0a770532",
   "metadata": {},
   "outputs": [
    {
     "data": {
      "text/html": [
       "<div>\n",
       "<style scoped>\n",
       "    .dataframe tbody tr th:only-of-type {\n",
       "        vertical-align: middle;\n",
       "    }\n",
       "\n",
       "    .dataframe tbody tr th {\n",
       "        vertical-align: top;\n",
       "    }\n",
       "\n",
       "    .dataframe thead th {\n",
       "        text-align: right;\n",
       "    }\n",
       "</style>\n",
       "<table border=\"1\" class=\"dataframe\">\n",
       "  <thead>\n",
       "    <tr style=\"text-align: right;\">\n",
       "      <th></th>\n",
       "      <th>text</th>\n",
       "      <th>Updated_label</th>\n",
       "    </tr>\n",
       "  </thead>\n",
       "  <tbody>\n",
       "    <tr>\n",
       "      <th>0</th>\n",
       "      <td>Donald Trump’s Jet, a Regular on the Campaign ...</td>\n",
       "      <td>3</td>\n",
       "    </tr>\n",
       "    <tr>\n",
       "      <th>1</th>\n",
       "      <td>Coca-Cola and Pepsi Fund 96 U.S. Health Groups...</td>\n",
       "      <td>1</td>\n",
       "    </tr>\n",
       "    <tr>\n",
       "      <th>2</th>\n",
       "      <td>Alex Rodriguez’s Orchestrated Move May Not Be ...</td>\n",
       "      <td>3</td>\n",
       "    </tr>\n",
       "    <tr>\n",
       "      <th>3</th>\n",
       "      <td>Who Is Sebastian Gorka? A Trump Adviser Comes ...</td>\n",
       "      <td>3</td>\n",
       "    </tr>\n",
       "    <tr>\n",
       "      <th>4</th>\n",
       "      <td>Paul Ryan Calls Donald Trump’s Attack on Judge...</td>\n",
       "      <td>3</td>\n",
       "    </tr>\n",
       "    <tr>\n",
       "      <th>...</th>\n",
       "      <td>...</td>\n",
       "      <td>...</td>\n",
       "    </tr>\n",
       "    <tr>\n",
       "      <th>59995</th>\n",
       "      <td>CPAC Straw Poll Finds Overwhelming Support for...</td>\n",
       "      <td>3</td>\n",
       "    </tr>\n",
       "    <tr>\n",
       "      <th>59996</th>\n",
       "      <td>Paul Ryan Calls Donald Trump’s Attack on Judge...</td>\n",
       "      <td>3</td>\n",
       "    </tr>\n",
       "    <tr>\n",
       "      <th>59997</th>\n",
       "      <td>NaN</td>\n",
       "      <td>1</td>\n",
       "    </tr>\n",
       "    <tr>\n",
       "      <th>59998</th>\n",
       "      <td>Obama’s Brother: I’m Voting TrumpPosted on Oct...</td>\n",
       "      <td>1</td>\n",
       "    </tr>\n",
       "    <tr>\n",
       "      <th>59999</th>\n",
       "      <td>Soros Spends Millions to Unseat Sheriff Joe Ar...</td>\n",
       "      <td>0</td>\n",
       "    </tr>\n",
       "  </tbody>\n",
       "</table>\n",
       "<p>60000 rows × 2 columns</p>\n",
       "</div>"
      ],
      "text/plain": [
       "                                                    text  Updated_label\n",
       "0      Donald Trump’s Jet, a Regular on the Campaign ...              3\n",
       "1      Coca-Cola and Pepsi Fund 96 U.S. Health Groups...              1\n",
       "2      Alex Rodriguez’s Orchestrated Move May Not Be ...              3\n",
       "3      Who Is Sebastian Gorka? A Trump Adviser Comes ...              3\n",
       "4      Paul Ryan Calls Donald Trump’s Attack on Judge...              3\n",
       "...                                                  ...            ...\n",
       "59995  CPAC Straw Poll Finds Overwhelming Support for...              3\n",
       "59996  Paul Ryan Calls Donald Trump’s Attack on Judge...              3\n",
       "59997                                                NaN              1\n",
       "59998  Obama’s Brother: I’m Voting TrumpPosted on Oct...              1\n",
       "59999  Soros Spends Millions to Unseat Sheriff Joe Ar...              0\n",
       "\n",
       "[60000 rows x 2 columns]"
      ]
     },
     "execution_count": 50,
     "metadata": {},
     "output_type": "execute_result"
    }
   ],
   "source": [
    "df"
   ]
  },
  {
   "cell_type": "code",
   "execution_count": 51,
   "id": "1c93be7b",
   "metadata": {},
   "outputs": [],
   "source": [
    "df['text']=df['text'].apply(str)"
   ]
  },
  {
   "cell_type": "code",
   "execution_count": 52,
   "id": "f1418994",
   "metadata": {},
   "outputs": [],
   "source": [
    "text=df.text"
   ]
  },
  {
   "cell_type": "code",
   "execution_count": 53,
   "id": "5b206db4",
   "metadata": {},
   "outputs": [],
   "source": [
    "import nltk\n",
    "import re\n",
    "from nltk.stem import PorterStemmer, WordNetLemmatizer\n",
    "from nltk.corpus import stopwords\n",
    "from nltk.tokenize import word_tokenize, sent_tokenize"
   ]
  },
  {
   "cell_type": "code",
   "execution_count": 70,
   "id": "2d652d70",
   "metadata": {},
   "outputs": [],
   "source": [
    "stemmer = PorterStemmer()\n",
    "sw=set(stopwords.words(\"english\"))"
   ]
  },
  {
   "cell_type": "code",
   "execution_count": 71,
   "id": "233451d7",
   "metadata": {},
   "outputs": [
    {
     "name": "stderr",
     "output_type": "stream",
     "text": [
      "[nltk_data] Downloading package wordnet to\n",
      "[nltk_data]     C:\\Users\\TP\\AppData\\Roaming\\nltk_data...\n",
      "[nltk_data]   Package wordnet is already up-to-date!\n"
     ]
    },
    {
     "data": {
      "text/plain": [
       "True"
      ]
     },
     "execution_count": 71,
     "metadata": {},
     "output_type": "execute_result"
    }
   ],
   "source": [
    "nltk.download('wordnet')"
   ]
  },
  {
   "cell_type": "code",
   "execution_count": 72,
   "id": "1c68a7d6",
   "metadata": {},
   "outputs": [
    {
     "name": "stdout",
     "output_type": "stream",
     "text": [
      "Donald Trump’s Jet, a Regular on the Campaign Trail, Isn’t Registered to Fly - The New York TimesOver the past several months, Donald J. Trump has crisscrossed the country making dozens of campaign stops in places like Sioux City, Iowa, and Jackson, Miss. often in his sleek Cessna jet. There is just one hitch: The plane’s registration is expired. Records kept with the Federal Aviation Administration show the aircraft’s registration lapsed on Jan. 31. Laura J. Brown, a spokeswoman for the Federal Aviation Administration, confirmed that the plane’s registration was not in good standing and said the owner had not renewed it. With few exceptions, aircraft must be registered in order to fly. Mr. Trump’s plane could be grounded for days, or even months, while the issue is sorted out. In the event of an accident, the company that insures the jet could cite the lapsed registration to decline any claims. The F. A. A. could also fine or assess other penalties against the owner, the operator or both Mr. Trump owns the plane through a limited liability company. Though it is unlikely that the agency would seek the maximum penalty, flying with no registration could result in a civil penalty of up to $27, 500, a criminal fine of up to $250, 000 and imprisonment for up to three years, it said. Hope Hicks, a spokeswoman for the Trump campaign, declined to answer several questions about the plane’s registration or use, saying only that the renewal process “is just about complete. ” As of late Tuesday, the F. A. A. had not received a registration renewal application for the Cessna, according to Ms. Brown, the agency spokeswoman. She declined to comment on any action the F. A. A. might take. Although Mr. Trump has a sizable delegate lead in the Republican presidential primary race, his campaign has often had organizational issues, at times losing ground against better organized opponents, chiefly Senator Ted Cruz of Texas, as Mr. Trump has struggled to master the complicated rules governing the selection of delegates. Mr. Trump can still fly most candidates typically charter a private plane. He also has four other registered aircraft: a Boeing 757 and three Sikorsky helicopters, a fleet that has become a critical part of the billionaire’s image he has sought to project on the campaign trail. The Boeing, which has Mr. Trump’s surname emblazoned in big letters on the outside and   fixtures inside, has been used as a backdrop at a number of his rallies. But the aircraft weighs more than 100, 000 pounds, and that creates limitations: It cannot land at many smaller airports. As a result, Mr. Trump often presses the 1997 Cessna 750 Citation X, which was designed to seat eight people, into action. It has made hundreds of flights since he announced his plan to seek the Republican nomination in June 2015, according to F. A. A. records reviewed by The New York Times. Dozens of those flights were made after Jan. 31, when the registration expired. The plane flew as recently as Monday, when it was used to transport Team Trump between La Guardia Airport and Buffalo for a campaign event on the eve of the New York primary. On Friday, it flew to Plattsburgh, N. Y. and to Hartford for rallies in those cities, according to radio transmissions broadcast by the plane that were archived on a flight data website and reviewed by The Times. The F. A. A. warned Mr. Trump that the Cessna’s registration was set to expire, records show. On Dec. 1, DJT Operations CX L. L. C. the limited liability company owned by Mr. Trump that operates the Cessna, received a “final notice” from the F. A. A. according to records reviewed by The Times. Then, on March 1, DJT Operations CX was notified that the registration had expired. “The aircraft’s registration and airworthiness certificates no longer support the aircraft’s operation,” the agency wrote. These notices, records show, were sent to National Registered Agents it is not a company Mr. Trump owns. It is the Delaware firm that was listed as the “registered agent” when DJT Operations CX was incorporated in 2012, the year Mr. Trump bought the jet. In an F. A. A. filing in 2012, titled “Aircraft Registration Application,” National Registered Agents, its address and its phone number were listed as the contact information for DJT Operations CX. The filing is one page, largely filled out by hand, and is signed by Mr. Trump. His title, initially listed as “president,” was crossed out and replaced with “sole member. ” The registration for Mr. Trump’s four other aircraft are current, records show. Flying privately is not cheap. The Trump campaign has paid a company that Mr. Trump owns more than $3 million for   travel since he announced his candidacy. Registering an aircraft, however, is cheap: It costs only $5, and the registration is valid for three years.Bitches always think somebody want them or they little coochie lol chilling dont exist nomore ? Iont want yall hoes\n",
      "Coca-Cola and Pepsi Fund 96 U.S. Health Groups. Coca-Cola and Pepsi Fund 96 U.S. Health Groups It sounds like a bad joke, but it’s the sad truth: Coca-Cola and Pepsi, the nation’s 2 top soda make... Print Email http://humansarefree.com/2016/11/coca-cola-and-pepsi-fund-96-us-health.html It sounds like a bad joke, but it’s the sad truth: Coca-Cola and Pepsi, the nation’s 2 top soda makers, recently gave money to several prominent public health groups – including some run by the government. [1]The sadder truth: Those groups were more than happy to accept the funds.As reported by a new study published October 10 in the American Journal of Preventative Measures, researchers at Boston University School of Medicine reveal that a whopping total of 96 public health groups accepted money from Coca-Cola and PepsiCo (or both companies) between 2011 and 2015.Some of the organizations might look familiar: American Diabetes Association, the National Institutes of Health, the American Red Cross, the Academy of Nutrition and Dietetics, just to name a few .Study author Daniel Aaron, a medical student at Boston University, said of the groups:“To see all these organizations [accepting money] is shocking and surprising. I don’t think companies have a legal duty to protect people’s health, but I think these groups do.”Take a minute to let that sink in. The American Diabetes Association takes money from soda makers . The very products the organization advises people not to consume. The study’s authors called this link “surprising, given the established link between diabetes and soda consumption.” [2]Let’s take a deeper look at this bizarre report. Sweet, Sweet Data Aaron and his coauthor, Dr. Michael Siegel, a professor of community health sciences at the university, decided to take a closer look at the love fest between soda companies and public health groups last year, when The New York Times ran a piece about Coca-Cola’s financial support of a group called the Global Energy Balance Network. [1]This now-defunct “network” was composed of university researchers, and to put it in the simplest terms possible, Coca-Cola paid these so-called scientists to shift the blame away from junk food and sugary drinks for causing the global obesity epidemic, and a host of other health problems.Aaron says:“We were bothered by that, and a little bit confused, and we wanted to know if this was common.” So Aaron and Siegel began investigating the links between Coca-Cola and Pepsi and 96 organizations: 63 public health groups 5 government groups 2 food supply groups Pepsi sponsored 14% of these groups, while Coca-Cola sponsored 99%. The men think that’s probably an underestimate, however; Coca-Cola recently disclosed its sponsorships, while PepsiCo is “known for making its sponsorship data extremely difficult to track.”Additionally, the study also only looked at national organizations, and most sponsored organizations are state or city-wide, the researchers report.Here’s a shocker (note the sarcasm): When the team looked at lobbying efforts by both companies, they found that the soda companies actively oppose legislation that targets soda and is aimed at preventing obesity. Between 2011 and 2015, Coca-Cola and PepsiCo publicly opposed 28 bills and supported 1. Of the bills the companies opposed: 12 were soda taxes 4 were Supplemental Nutrition Assistance Program (SNAP) regulations 1 involved the controversial limit on soda sizes in New York. However, both companies supported a bill designed to limit the marketing of soda in schools, though beverages like Diet Coke could still be marketed.All that lobbying had a definite impact. One group, Save the Children, gave up pushing for soda taxes after Coca-Cola and Pepsi gave them a cool $5 million in 2009.And The Academy of Nutrition and Dietetics issued a statement saying that it would not back New York Mayor Michael Bloomberg’s proposed limit on soda portions, arguing that the emphasis should be placed on nutrition education.Marion Nestle, a New York University professor of public health and nutrition, says:“First, they attack the science. Then, they fund community groups, promote exercise as a solution, and say they’re self-regulated and don’t need to be regulated by an outside source.” [3]Aaron and Siegel write in the study:“It is probable that corporate philanthropy is increasing consumption of soda throughout the country.“Rather than supporting public health, organizations may become unwitting partners that contribute to corporate marketing strategy.” [1]The duo argues that soda companies’ sponsorship of health groups ends up creating positive cultural associations with their brands. It should be noted that sponsorship is considered marketing by the Federal Trade Commission (FTC).And never underestimate an industry’s ability to shape the public view.As I wrote last month, the sugar industry paid Harvard scientists to frame sugar as a mostly-harmless substance, while painting fat as the cause of obesity, heart disease, and all of the health problems we now know are actually caused by sugar.The sugar industry was so successful, in fact, that – to quote one professor – it was able “to derail the discussion about sugar for decades.” By Julie Fidler / References: [1] Time ; [2] RT ; [3] Business Inside r; Medical Daily Dear Friends, HumansAreFree is and will always be free to access and use. If you appreciate my work, please help me continue. \n",
      "Stay updated via Email Newsletter: Related@xcorey21 uh you're trash. &#128536;\n",
      "Alex Rodriguez’s Orchestrated Move May Not Be His Last - The New York TimesThis is how it ends for Alex Rodriguez? With a   whimper instead of an   public relations war? Hard to believe. For the moment, let’s not. It is possible that Rodriguez  —   at 41 and having been, as he put it, “to hell and back”  —   talked himself into being “at peace” about walking away after Friday night’s game against Tampa Bay at Yankee Stadium. But after a long and tumultuous career fueled by what even amateur psychologists could positively diagnose as a chronic inner turbulence, we suspect this was   merely acceding to the franchise’s wishes to move beyond him without stirring up memories of his contentious and litigious past. Four home runs short of 700, 18 shy of Babe Ruth, this   and   man, once photographed kissing his reflection in the mirror, is going to retire just because Hal Steinbrenner and Brian Cashman decided it was time? “Of course, I think I can play baseball,” Rodriguez said. “You always think you have one more hit in you. That wasn’t in the cards. That was the Yankees’ decision, and I’m at peace with it. ” All of that rang true except the last part. That is why no one should be surprised if another team reaches out in the next couple of weeks or for next season and Rodriguez’s tenure as a Yankees organizational adviser has the staying power of a Trump news cycle. Understand that the Yankees are great at selling history but are not exactly in the business of overdoing sentimentality. Cashman, above all, was once ready to run off Derek Jeter in the middle of a contract squabble. He was not about to yield to Rodriguez’s wishes for a steady diet of   when he couldn’t produce as the designated hitter and the Yankees had finally come to grips with the recurrence of 1965. For those not versed in pinstriped lore: with the realization that their   roster was old, broken down and overdue for disassembly. As   rode the bench these last few weeks  —   “painful and embarrassing,” he said  —   and Manager Joe Girardi bristled at reporters’ questions of why, anyone who knows Cashman could imagine his hardening feelings about a player the Yankees welcomed back in 2015 after a   suspension for being snared in the net of the Biogenesis drug scandal. Yes, Rodriguez was necessarily contrite and no longer a provocative clubhouse presence. More important, he produced, against all odds and expectations, on the way to 33 home runs. The image enhancement reached the point where the Yankees celebrated his 3, 000th hit with a commemorative day in September, an event unimaginable when Rodriguez was suing or defaming everyone but the talk radio host Mike Francesa in a   attempt  —   wisely abandoned  —   to avoid suspension by Major League Baseball. But more than any singular story line, Rodriguez’s Yankees career was characterized by unpredictable twists and   turns. By his special day, wouldn’t you know that his bat had slowed and the   fastball had become an unhittable blur? His return season was nonetheless hailed as a triumphant character reconstruction. He was no longer an albatross with a capital A  —   until he resumed flailing away this season and the unsparing Cashman had to ask himself, besides $21 million in 2017, how much do we owe this guy? Rodriguez had no more leverage in New York, and what was the point of making a fuss? He went along tamely with the Yankees’ wishes and provided more behavioral assurance for any team that might seriously weigh his explanation on Sunday for why he couldn’t hit a lick after returning from time on the disabled list in May. “Mechanically, I never felt like I caught up,” he said, suggesting that it was more an issue of timing than the intervention of Father Time. If the phone doesn’t ring  —   a good possibility  —   then Rodriguez will at least wear the redemptive aura into his playing afterlife as he contemplates a continued association with the game. But who is naïve enough to think he won’t be burning for one last shot? “As far as 700, or any of those type of milestones, I would have had an unbelievable, fun time going after them,” he said, perhaps a flare to anyone in need of a marketing tool while playing out a lost season? What we can be certain of is that the timing of the departure from the Yankees’ bench  —   one night before Jeter and the 1996 World Series champions return to the Stadium to take another bow  —   was no coincidence. So many of Rodriguez’s machinations with the Yankees were painfully contrived, especially the   $275 million deal that tethered him to the team past the point where the marriage was played out. Remember how word happened to get out during the 2007 World Series that Rodriguez was intending to leave the Yankees as a free agent? As a commodity, he had juice back then, the Yankees capitulated and the deal was officially announced on the very day baseball released the Mitchell report, detailing an entrenched steroid culture we would soon learn Rodriguez was part of. For timing so transparently tacky, it was easy to say, in the flurry of headlines to follow, that   and the Yankees deserved each other. All due respect and good cheer aside, that part of the narrative will never change.RT @AP: Lifelong Yankee fan puts aside rooting interest and returns lost Red Sox World Series ring to rightful owner: http://t.co/GDLcpWDNoo\n",
      "Who Is Sebastian Gorka? A Trump Adviser Comes Out of the Shadows - The New York TimesSince President Trump appointed Sebastian Gorka last month as a deputy assistant, Mr. Gorka has been an increasingly visible defender of the administration. He has spoken out in favor of the targeted travel ban, which spurred mass protests and was then blocked by federal courts. He suggested in a recent interview with The Hill that the CNN anchor Jake Tapper was sexist for aggressively questioning the Trump adviser Kellyanne Conway. He has also insisted that media reports of turmoil in the White House bear “almost no resemblance to reality. ” Mr. Gorka came out swinging again on Thursday, after Mr. Trump’s contentious news conference in which he excoriated the media. Asked by Evan Davis of the BBC to assess Mr. Trump’s appearance, Mr. Gorka repeatedly declared the president’s performance “fabulous. ” “It’s only weird to journalists like yourself, who are biased,” he said. Who is he? Here’s what we know: Mr. Gorka is an American citizen who was born in Britain to Hungarian parents. He earned a Ph. D. in political science from Corvinus University of Budapest and has made his living as a national security expert with a focus on Islamist extremism. He wrote a   book, published last year, called “Defeating Jihad: The Winnable War. ” In his Breitbart articles, he has criticized foreign policy under the Obama administration and trumpeted the threat of the Islamic State group. Mr. Gorka, 46, is a former editor for the   media outlet Breitbart News and a friend of Stephen Bannon, the former Breitbart chairman who is now a powerful assistant to Mr. Trump. Until recently, Mr. Gorka was not well known to Washington policy makers. But his increasing visibility has brought headlines, some less welcome than others. He has appeared in a number of television and radio interviews as a representative of the Trump administration and a member of a White House team called the Strategic Initiatives Group. The Daily Beast called it a think tank within the White House that was set up by Mr. Bannon and the president’s    and senior adviser, Jared Kushner. The group’s formation raised red flags, said Julianne Smith, a former deputy national security adviser to Vice President Joseph R. Biden Jr. and the director of strategy and statecraft at the Center for a New American Security. The National Security Council has traditionally played a decisive role in foreign policy decisions, she said. “Now we have the Strategic Initiatives Group and the National Security Council both working on issues of national security and strategy. So my question on Sebastian, ultimately, is: Who is he reporting to? Is he reporting to the National Security Council? Or is this a direct line to Bannon?” Mr. Gorka said he could not comment for this article without clearance from the White House. But after multiple calls and emails since Tuesday, neither he nor the White House has answered questions about his position or the role of the initiatives group. This month, Mr. Gorka told CNN that the group would bring private industry expertise to bear on a range of issues, including cybersecurity, veterans affairs and the modernization of government technological systems. “That is very different from what the National Security Council is doing every day under the sterling leadership of General Flynn,” he added, referring to Michael T. Flynn, then the national security adviser, who would resign 12 days later. Ms. Smith said she was not personally familiar with Mr. Gorka, though she had crossed paths with him during the early 2000s. “I don’t know what to believe about this guy, but given his experience at Breitbart and what I had heard years ago, it does appear to me that he takes some rather extreme views,” she said. Mr. Gorka dismissed such criticisms during a Wednesday interview with Sean Hannity of Fox News and brushed aside some of the more controversial reports buzzing around him. “I think we’re doing our job very well  —   don’t you, Sean?  —   if this is the best they can do,” he said. He referred to reports, like one from Fusion, that said he had exaggerated his role as an expert witness in the trial of Dzhokhar Tsarnaev, who was convicted of helping to carry out the Boston bombing of 2013. Mr. Gorka told Mr. Hannity he still had invoices for the expert report he submitted for the case. “I may not have taken the stand, but I was an expert on the Boston bombing trial,” he said. As for the speculations about  Nazi sympathies, they go back to one of Mr. Trump’s inauguration balls, when Mr. Gorka  —   appearing in photos and a video interview with Mr. Hannity  —   wore a medal that could be interpreted as a nod to Miklos Horthy, a Hungarian leader who entered into a strained alliance with Nazi Germany in the early years of World War II. In a video posted by Breitbart on Tuesday, Mr. Gorka said the medal belonged to his father, who he said had suffered “under both the Nazis and the Communists” in Hungary, having lived through World War II and survived torture under the   government that later came to power. Mr. Gorka was charged with a misdemeanor after he took  a handgun into Reagan National Airport in Virginia last year. In a statement quoted by Breitbart, he said that on his way to the airport, he had “grabbed the wrong bag, one I had just used” at a gun range. He added that he was allowed to board his flight, and that the weapon was confiscated. The charge was dropped early this month. Though his appointment to the White House occurred only recently, Mr. Gorka has been in touch with Mr. Trump at least since 2015. He wrote last year that he had submitted some policy papers to the presidential candidate and had met with him twice to discuss national security issues. Federal election commission filings indicate that the Trump campaign paid $8, 000 to Mr. Gorka for policy consulting in 2015. It is difficult to predict the impact Mr. Gorka could have on foreign policy in the White House, Ms. Smith said, especially since he is apparently working under the shadowy aegis of Mr. Bannon. “We’ve got a situation where both outsiders and certain members of the government are confused about who is serving as the lead on foreign policy decisions,” she said. “And because we are not clear about Steve Bannon’s role, it raises a lot of concern because of his personal views, and also his lack of experience. ”RT @Alleycelestine: &#8220;@ViriDoesItt: Kissin small lips is trash lol..&#8221;!!! Yessssss\n",
      "Paul Ryan Calls Donald Trump’s Attack on Judge ‘Racist,’ but Still Backs Him - The New York TimesWASHINGTON  —   Speaker Paul D. Ryan, the nation’s   Republican, on Tuesday called Donald J. Trump’s remarks about a Latino judge “racist,” an extraordinary indictment that generated a fresh wave of criticism and panic from other Republicans. By the end of the day, Mr. Trump was forced into a rare moment of damage control and said that his words had been “misconstrued. ” Mr. Trump, who said last week that a   judge in a case involving Trump University was biased against him because of his heritage, issued a statement Tuesday saying, “I do not feel that one’s heritage makes them incapable of being impartial. ” He added that he was simply questioning whether he was receiving a fair trial, but he did not apologize for his remarks, something many Republicans had urged him to do. Mr. Ryan said Mr. Trump’s criticism of the judge, Gonzalo P. Curiel of United States District Court, was “the textbook definition of a racist comment. ” But Mr. Ryan also reiterated his support for Mr. Trump, the presumptive Republican presidential nominee. “I disavow these comments  —   I regret those comments that he made,” Mr. Ryan said. “I think that should be absolutely disavowed. It’s absolutely unacceptable. But do I believe that Hillary Clinton is the answer? No, I do not. ” He added: “I believe that we have more common ground on the policy issues of the day and we have more likelihood of getting our policies enacted with him than with her. ” Republicans on Capitol Hill faced an increasingly difficult task  —   giving Mr. Trump their support while still keeping their distance from his inflammatory language. While many Republicans, like Mr. Ryan, continued to affirm their support for Mr. Trump, others appeared ready to abandon him, throwing the once stolid party further into disarray. “I cannot and will not support my party’s nominee for president,” said Senator Mark S. Kirk, Republican of Illinois, becoming the first Republican senator running for   to break with Mr. Trump. “After much consideration, I have concluded that Donald Trump has not demonstrated the temperament necessary to assume the greatest office in the world” or to control the nation’s nuclear arsenal. Mr. Kirk is perhaps the most vulnerable incumbent Republican, in a state where Mr. Trump is likely to be a drag on the ticket. Mr. Kirk, who still speaks with difficulty from a stroke in 2012, also noted that Mr. Trump has mocked a disabled reporter. Others were close to following Mr. Kirk. “If Donald remains Donald, I will not vote for him,” declared Senator Jeff Flake, Republican of Arizona, who echoed Mr. Ryan’s denunciation of Mr. Trump’s comments. In a victory speech in Westchester County on Tuesday night, Mr. Trump struck a measured tone, saying he understood the responsibility of carrying the mantle of the Republican Party. “I will never, ever let you down,” he said. But Mr. Trump’s more incendiary remarks in other arenas have left many congressional Republicans facing a painful dilemma. Those who are on the ballot defending the party’s majorities this year need Mr. Trump’s voters to win, and risk angering them with any full disavowal of the nominee. But to continue to embrace him as he openly injects race into the campaign poses its own dangers. Even Republicans who have praised his candidacy warned on Tuesday that the party may have to separate itself from its  . Senator Bob Corker, a Tennessee Republican who has met privately with Mr. Trump and been mentioned as a   choice, said “there could be” a line that the presumptive nominee crosses that would make him withdraw his support. “This is a crucial   or   period,” Mr. Corker said. “If at the end of June, moving into a convention and still not having pivoted toward being more of a general election candidate would prove to be very problematic. ” In private, the senators redirected their anger toward Senator Jeff Sessions, the Alabama Republican who is Mr. Trump’s most outspoken supporter in the Senate. Senator Kelly Ayotte, a New Hampshire Republican who is also in a difficult   fight, used a   luncheon to complain that Mr. Trump’s comments were obscuring the party’s economic message and urged Mr. Sessions to tell Mr. Trump to drop his jeremiad against the judge, according to two senators present who requested anonymity to reveal private conversations. Many Republicans hewed to a carefully scripted text in which the prospect of Hillary Clinton in the White House is presented as a larger threat than the risk their party may be taking with Mr. Trump. “What we have here is a country in crisis,” said Senator David Perdue, Republican of Georgia, adding that Mrs. Clinton was not the person to govern in troubled times. But even that defense showed it cracks. Asked which of Mr. Trump’s policy statements he preferred over Mrs. Clinton’s, Senator Dan Coats, Republican of Indiana, paused for 11 seconds before saying, “I don’t know that I want to deal with that. ” Ms. Ayotte said Mr. Trump’s comments “were wrong and offensive,” adding, “He should retract those comments. ” Among others in a perilous trap are Senators Mitch McConnell, the majority leader, whose new book boasts of his commitment to civil rights Tim Scott, the Senate’s only   Republican and Marco Rubio and Ted Cruz, sons of Cuban immigrants. Their choice now appears one between their biographies and their principles. Beyond Washington, other Republicans were also not satisfied with Mr. Trump’s response. “Donald Trump should retract his comments, not defend them. There is no place for racism in the G. O. P. or this country,” former Gov. Jeb Bush of Florida said on Twitter. For the moment, Republicans are more focused on limiting the damage they incur as a result of Mr. Trump’s candidacy than they are getting him elected. Mr. Scott, who has called Mr. Trump’s comments “racially toxic,” portrayed his own party’s nominee as a temporary affliction on conservatism. “For the next several months, he will have the loudest voice, but the fact of the matter is there will be other voices speaking as well,” he said, not even suggesting Mr. Trump could have the party’s loudest voice for four years. On Tuesday, Mr. McConnell deflected numerous questions about Mr. Trump before saying, “ It’s time to quit attacking various people that you competed with or various minority groups in the country and get on message. ” Even Republicans who shied from talk of abandoning the nominee shifted their tone. Moving from alarmed to angry, the party’s leaders sent Mr. Trump an unmistakable message: He is hurting the party and must stop. Senator Richard Burr, a North Carolina Republican who has also embraced Mr. Trump, acknowledged that the party may have to disavow Mr. Trump, employing the   maxim from former Justice Potter Stewart about how one can detect pornography. “This is one of those things you’ll know it when you see it,” said Mr. Burr, adding, hopefully, that he did not think the party “will get there. ” Dashing into a   luncheon of senators, Senator Shelley Moore Capito, Republican of West Virginia, called over her shoulder, “His comments are not helping. ” But Ms. Capito also said in an interview that in her economically depressed state, “there is a huge degree of pessimism. ” “People are looking for a message of hope,” she added, underscoring the attractiveness of Mr. Trump’s economic messages for many Republican voters. Mr. Trump has told his supporters that they should respond by suggesting that reporters who raise questions about his statements are racists, and to carry the message in various forms. One early supporter, Representative Lee Zeldin, Republican of New York, gave the technique a whirl in an interview with CNN on Tuesday. “You can easily argue that the president of the United States is a racist with his policies and his rhetoric. ” The conflagration over Mr. Trump’s remarks has detracted from Mr. Ryan’s desperate efforts to change the conversation on the Hill to focus on policy. But most Republicans agreed they had no real recourse at this point. “There is no easy answer,” Mr. Flake said. “You can write someone in. ” Mr. Trump tried to provide an answer to mitigate the damage. In his statement, he said it was “unfortunate that my comments have been misconstrued as a categorical attack against people of Mexican heritage. ” “I am friends with and employ thousands of people of Mexican and Hispanic descent,” he added. “The American justice system relies on fair and impartial judges. All judges should be held to that standard. “I do not feel that one’s heritage makes them incapable of being impartial, but, based on the rulings that I have received in the Trump University civil case, I feel justified in questioning whether I am receiving a fair trial. ”@xloyalTOme - bitch I'm up for sale every weekend &#128553;&#128557;\n"
     ]
    }
   ],
   "source": [
    "for i in range(0, 5):\n",
    "    print(text[i])"
   ]
  },
  {
   "cell_type": "code",
   "execution_count": 73,
   "id": "4500701e",
   "metadata": {},
   "outputs": [],
   "source": [
    "def preprocess(text_string):\n",
    "    space_pattern = '\\s+'\n",
    "    giant_url_regex = ('http[s]?://(?:[a-zA-Z]|[0-9]|[$-_@.&+]|'\n",
    "        '[!*\\(\\),]|(?:%[0-9a-fA-F][0-9a-fA-F]))+')\n",
    "    mention_regex = '@[\\w\\-]+'\n",
    "    parsed_text = re.sub(space_pattern, ' ', text_string)\n",
    "    parsed_text = re.sub(giant_url_regex, '', parsed_text)\n",
    "    parsed_text = re.sub(mention_regex, '', parsed_text)\n",
    "    parsed_text=re.sub(r'[^\\w\\s]','',parsed_text)\n",
    "    return parsed_text\n",
    "\n",
    "def tokenize(tweet):\n",
    "    tweet = word_tokenize(tweet)\n",
    "    return tweet"
   ]
  },
  {
   "cell_type": "code",
   "execution_count": 74,
   "id": "83211874",
   "metadata": {},
   "outputs": [
    {
     "name": "stderr",
     "output_type": "stream",
     "text": [
      "[nltk_data] Downloading package punkt to\n",
      "[nltk_data]     C:\\Users\\TP\\AppData\\Roaming\\nltk_data...\n",
      "[nltk_data]   Package punkt is already up-to-date!\n"
     ]
    },
    {
     "data": {
      "text/plain": [
       "True"
      ]
     },
     "execution_count": 74,
     "metadata": {},
     "output_type": "execute_result"
    }
   ],
   "source": [
    "nltk.download('punkt')"
   ]
  },
  {
   "cell_type": "code",
   "execution_count": 75,
   "id": "2cba0aca",
   "metadata": {},
   "outputs": [],
   "source": [
    "text_pre_processed=[]"
   ]
  },
  {
   "cell_type": "code",
   "execution_count": 76,
   "id": "351c0d56",
   "metadata": {},
   "outputs": [],
   "source": [
    "for i in range(0, len(text)):\n",
    "    text_pre_processed.append(preprocess(text[i]))\n",
    "    text_pre_processed[i]=tokenize(text_pre_processed[i])\n",
    "    text_pre_processed[i]=[w.lower() for w in text_pre_processed[i]]\n",
    "    text_pre_processed[i]=[word for word in text_pre_processed[i] if word.isalpha()]\n",
    "    text_pre_processed[i]=[w for w in text_pre_processed[i] if not w in sw]"
   ]
  },
  {
   "cell_type": "code",
   "execution_count": 77,
   "id": "13022c40",
   "metadata": {},
   "outputs": [],
   "source": [
    "from sklearn.feature_extraction.text import TfidfVectorizer"
   ]
  },
  {
   "cell_type": "code",
   "execution_count": 83,
   "id": "4a436dee",
   "metadata": {},
   "outputs": [],
   "source": [
    "vectorizer= TfidfVectorizer(\n",
    "    tokenizer=tokenize,\n",
    "    preprocessor=preprocess,\n",
    "    ngram_range=(1, 3),\n",
    "    stop_words=sw,\n",
    "    use_idf=True,\n",
    "    smooth_idf=False,\n",
    "    norm=None,\n",
    "    decode_error='replace',\n",
    "    max_features=10000,\n",
    "    min_df=5,\n",
    "    max_df=0.75\n",
    "    )"
   ]
  },
  {
   "cell_type": "code",
   "execution_count": 84,
   "id": "96c1071e",
   "metadata": {},
   "outputs": [],
   "source": [
    "feat=vectorizer.fit_transform(text).toarray()"
   ]
  },
  {
   "cell_type": "code",
   "execution_count": 85,
   "id": "891e8f56",
   "metadata": {},
   "outputs": [
    {
     "data": {
      "text/plain": [
       "(60000, 10000)"
      ]
     },
     "execution_count": 85,
     "metadata": {},
     "output_type": "execute_result"
    }
   ],
   "source": [
    "feat.shape"
   ]
  },
  {
   "cell_type": "code",
   "execution_count": 86,
   "id": "16962769",
   "metadata": {},
   "outputs": [
    {
     "data": {
      "text/plain": [
       "dtype('float64')"
      ]
     },
     "execution_count": 86,
     "metadata": {},
     "output_type": "execute_result"
    }
   ],
   "source": [
    "feat.dtype"
   ]
  },
  {
   "cell_type": "code",
   "execution_count": 87,
   "id": "da04442c",
   "metadata": {},
   "outputs": [
    {
     "data": {
      "text/plain": [
       "array([[0.        , 0.        , 0.        , ..., 0.        , 0.        ,\n",
       "        0.        ],\n",
       "       [0.        , 0.        , 0.        , ..., 0.        , 0.        ,\n",
       "        0.        ],\n",
       "       [0.        , 0.        , 0.        , ..., 0.        , 0.        ,\n",
       "        0.        ],\n",
       "       ...,\n",
       "       [0.        , 0.        , 0.        , ..., 0.        , 0.        ,\n",
       "        0.        ],\n",
       "       [3.65926004, 0.        , 0.        , ..., 0.        , 0.        ,\n",
       "        0.        ],\n",
       "       [0.        , 0.        , 0.        , ..., 0.        , 0.        ,\n",
       "        0.        ]])"
      ]
     },
     "execution_count": 87,
     "metadata": {},
     "output_type": "execute_result"
    }
   ],
   "source": [
    "feat"
   ]
  },
  {
   "cell_type": "code",
   "execution_count": 89,
   "id": "a675a9c0",
   "metadata": {},
   "outputs": [],
   "source": [
    "X = pd.DataFrame(feat)\n",
    "y=df['Updated_label'].astype(int)"
   ]
  },
  {
   "cell_type": "code",
   "execution_count": 90,
   "id": "c205fe19",
   "metadata": {},
   "outputs": [],
   "source": [
    "from sklearn.model_selection import train_test_split"
   ]
  },
  {
   "cell_type": "code",
   "execution_count": 91,
   "id": "ff465a62",
   "metadata": {},
   "outputs": [],
   "source": [
    "X_train, X_test, y_train, y_test = train_test_split(X, y, test_size=0.1)"
   ]
  },
  {
   "cell_type": "code",
   "execution_count": null,
   "id": "14dbcac8",
   "metadata": {},
   "outputs": [],
   "source": []
  }
 ],
 "metadata": {
  "kernelspec": {
   "display_name": "Python 3",
   "language": "python",
   "name": "python3"
  },
  "language_info": {
   "codemirror_mode": {
    "name": "ipython",
    "version": 3
   },
   "file_extension": ".py",
   "mimetype": "text/x-python",
   "name": "python",
   "nbconvert_exporter": "python",
   "pygments_lexer": "ipython3",
   "version": "3.8.8"
  }
 },
 "nbformat": 4,
 "nbformat_minor": 5
}
